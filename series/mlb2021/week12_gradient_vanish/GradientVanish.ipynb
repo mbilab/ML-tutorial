{
 "cells": [
  {
   "cell_type": "markdown",
   "metadata": {},
   "source": [
    "# Homework 1 - Gradient Vanish\n",
    "\n",
    "Goals:\n",
    "\n",
    "1. Solve vanishing gradient problem  \n",
    "2. Basic usage of keras\n",
    "\n",
    "## 1. Vanishing Gradient \n",
    "\n",
    "\n",
    "\n",
    "### 1.1 Definition\n",
    "\n",
    "Normally, we use **backpropagation** to perform **gradient-based methods**.  In a neural network, each neuron receives error signal back-propagated from its next layer and uses it to compute its own gradient. And then the error will be back-propagated all the way to the first layer. Throughout the propagation, **the error signal will decay from output layer to input layer**.\n",
    "\n",
    "### 1.2 Proof\n",
    "Consider the gradient of loss for each weight : \n",
    "\n",
    "$$\n",
    "\\frac{\\partial\\ loss}{\\partial W_o} = \\frac{\\partial\\ output}{\\partial W_o} \\times \\frac{\\partial\\ loss}{\\partial\\ output}\n",
    "$$\n",
    "\n",
    "$$\n",
    "\\frac{\\partial\\ loss}{\\partial W_n} = \\frac{\\partial h_n}{\\partial W_n} \\times \\frac{\\partial\\ output}{\\partial h_n} \\times \\frac{\\partial\\ loss}{\\partial\\ output}\n",
    "$$\n",
    "\n",
    "$$\n",
    "\\frac{\\partial\\ loss}{\\partial W_{n-1}} = \\frac{\\partial h_{n-1}}{\\partial W_{n-1}} \\times \n",
    "\\frac{\\partial h_n}{\\partial h_{n-1}} \\times \\frac{\\partial\\ output}{\\partial h_n} \\times \\frac{\\partial\\ loss}{\\partial\\ output}\n",
    "$$\n",
    "\n",
    "$$\n",
    "\\frac{\\partial\\ loss}{\\partial W_{n-2}} = \\frac{\\partial h_{n-2}}{\\partial W_{n-2}} \\times \n",
    "\\frac{\\partial h_{n-1}}{\\partial h_{n-2}} \\times \\frac{\\partial h_{n}}{\\partial h_{n-1}} \\times \\frac{\\partial\\ output}{\\partial h_n} \\times \\frac{\\partial\\ loss}{\\partial\\ output}\n",
    "$$\n",
    "\n",
    "$$\n",
    ".\\\\.\\\\.\n",
    "$$\n",
    "\n",
    "We can summarize the above as follows :\n",
    "\n",
    "$$\n",
    "\\frac{\\partial\\ loss}{\\partial W_i} = \\frac{\\partial h_i}{\\partial W_i} \\times \\prod_{k=i}^{n} \\frac{\\partial h_{k+1}}{\\partial h_k} \\times \\frac{\\partial\\ loss}{\\partial\\ h_{n+1}} \\\\\n",
    "where\\ \\ h_{n+1} = output\n",
    "$$\n",
    "\n",
    "Let's focus on :\n",
    "$$\n",
    "\\frac{\\partial h_{k+1}}{\\partial h_k}\n",
    "$$\n",
    "\n",
    "If we use sigmoid function as activation function in hidden layers, we can treat the above equation as follows :\n",
    "\n",
    "$$\n",
    "\\frac{\\partial h_{k+1}}{\\partial h_k} = \\frac{sigmoid(h_k W_k + b_k)}{\\partial h_k} = W_k \\times sigmoid'(h_k W_k + b_k)\n",
    "$$\n",
    "\n",
    "The output value of derivative of sigmoid function is between 0 and 0.25. This means if the value of $W_k$ is not larger than 4, the value of $\\frac{\\partial h_{k+1}}{\\partial h_k}$ will be smaller than 1. But it is impossible to keep all $W$ larger than 4. So, we can expect that $\\frac{\\partial h_{k+1}}{\\partial h_k}$ is always smaller than 1.\n",
    "\n",
    "According to the above conclusions, let's go back to the equation of the gradient :\n",
    "\n",
    "$$\n",
    "\\frac{\\partial\\ loss}{\\partial W_i} = \\frac{\\partial h_i}{\\partial W_i} \\times \\prod_{k=i}^{n} \\frac{\\partial h_{k+1}}{\\partial h_k} \\times \\frac{\\partial\\ loss}{\\partial\\ h_{n+1}} \\\\\n",
    "where\\ \\ h_{n+1} = output\n",
    "$$\n",
    "\n",
    "If $i$ is small(0, 1, 2...), the value of $\\prod$ term will be also close to 0 (since multiply many values that are smaller than 1). And this means the overall gradient will be close to 0.\n",
    "\n",
    "### 1.3 Disadvantage\n",
    "\n",
    "Q: Why vanishing gradient is a problem ?\n",
    "\n",
    "A: It takes more time to train a model, because learning speed is slow at the initial layers."
   ]
  },
  {
   "cell_type": "markdown",
   "metadata": {},
   "source": [
    "## 2. Practices\n",
    "\n",
    "In this section, we will train a model with MNIST dataset and observe vanishing gradient problem.\n",
    "\n",
    "### 2.1 MNIST\n",
    "\n",
    "MNIST dataset contains 70000 examples of handwritten digits (60000 examples for training, 10000 examples for testing) for 10 categories (0 ~ 9). Each example is a grayscale 28 pixels x 28 pixels image. For more introduction, see [official website](http://yann.lecun.com/exdb/mnist/)\n",
    "\n",
    "Execute the following cell to check some examples :"
   ]
  },
  {
   "cell_type": "code",
   "execution_count": 1,
   "metadata": {},
   "outputs": [
    {
     "name": "stderr",
     "output_type": "stream",
     "text": [
      "Using TensorFlow backend.\n"
     ]
    },
    {
     "name": "stdout",
     "output_type": "stream",
     "text": [
      "(60000, 28, 28)\n",
      "(60000,)\n",
      "(10000, 28, 28)\n",
      "(10000,)\n"
     ]
    },
    {
     "data": {
      "image/png": "[encoded data removed]",
      "text/plain": [
       "<matplotlib.figure.Figure at 0x7fdc80da8cc0>"
      ]
     },
     "metadata": {},
     "output_type": "display_data"
    }
   ],
   "source": [
    "import numpy as np\n",
    "\n",
    "# Keras has built-in mnist dataset\n",
    "from keras.datasets import mnist\n",
    "from matplotlib import pyplot as plt\n",
    "\n",
    "%matplotlib inline\n",
    "\n",
    "(x_train, y_train), (x_test, y_test) = mnist.load_data()\n",
    "\n",
    "print(x_train.shape)\n",
    "print(y_train.shape)\n",
    "print(x_test.shape)\n",
    "print(y_test.shape)\n",
    "\n",
    "fig = plt.figure()\n",
    "\n",
    "for i in range(5):\n",
    "    fig.add_subplot(1, 5, i + 1)\n",
    "    plt.imshow(x_train[i], cmap=plt.get_cmap('gray'))\n",
    "    plt.axis('off')\n",
    " \n",
    "plt.show()"
   ]
  },
  {
   "cell_type": "markdown",
   "metadata": {},
   "source": [
    "## 2.2 Preprocessing\n",
    "\n",
    "Now, we want to train a neural network. We can treat all of pixels of a sample as features. So, there will be $28 \\times 28 = 784$ features in each sample.\n",
    "\n",
    "In this section, we will reshape each sample (2D) to a feature vector (1D) and normalize the vector. For each label, we will generate the one-hot vector."
   ]
  },
  {
   "cell_type": "code",
   "execution_count": 1,
   "metadata": {},
   "outputs": [
    {
     "name": "stderr",
     "output_type": "stream",
     "text": [
      "Using TensorFlow backend.\n"
     ]
    },
    {
     "name": "stdout",
     "output_type": "stream",
     "text": [
      "(60000, 784)\n",
      "(60000, 10)\n",
      "(10000, 784)\n",
      "(10000, 10)\n"
     ]
    }
   ],
   "source": [
    "import numpy as np\n",
    "from keras.utils import to_categorical\n",
    "from keras.datasets import mnist\n",
    "\n",
    "(x_train, y_train), (x_test, y_test) = mnist.load_data()\n",
    "\n",
    "# Reshape and normalize\n",
    "x_train = np.reshape(x_train, [-1, 784]) / 255.0\n",
    "x_test = np.reshape(x_test, [-1, 784]) / 255.0\n",
    "\n",
    "# One-hot encoding. See https://keras.io/utils/#to_categorical\n",
    "y_train = to_categorical(y_train, num_classes=10)\n",
    "y_test = to_categorical(y_test, num_classes=10)\n",
    "\n",
    "print(x_train.shape)\n",
    "print(y_train.shape)\n",
    "print(x_test.shape)\n",
    "print(y_test.shape)"
   ]
  },
  {
   "cell_type": "markdown",
   "metadata": {},
   "source": [
    "## 2.3 Neural network with single hidden layer\n",
    "\n",
    "We can train a neural network as follows. Here, we use a custom callback to observe gradients at each layers.\n",
    "\n",
    "The parameters of `GradientLogger`:\n",
    "- x_eval (numpy array): Features to compute gradient.\n",
    "- y_eval (numpy array): Labels to compute gradient.\n",
    "- layer_index (list): A list of number. GradientLogger will show the distrbution of gradient of layers in those index. Set it to `None` to show all layers. Default is `None`\n",
    "- keep_last_epochs (int): GradientLogger will plot histogram of the gradient in last `n` epochs. Default is `3`"
   ]
  },
  {
   "cell_type": "code",
   "execution_count": 5,
   "metadata": {},
   "outputs": [
    {
     "name": "stdout",
     "output_type": "stream",
     "text": [
      "_________________________________________________________________\n",
      "Layer (type)                 Output Shape              Param #   \n",
      "=================================================================\n",
      "dense_1 (Dense)              (None, 300)               235500    \n",
      "_________________________________________________________________\n",
      "dense_2 (Dense)              (None, 10)                3010      \n",
      "=================================================================\n",
      "Total params: 238,510\n",
      "Trainable params: 238,510\n",
      "Non-trainable params: 0\n",
      "_________________________________________________________________\n",
      "Train on 48000 samples, validate on 12000 samples\n",
      "Epoch 1/5\n",
      "48000/48000 [==============================] - 1s 24us/step - loss: 2.1678 - acc: 0.3805 - val_loss: 2.0280 - val_acc: 0.5825\n",
      "Gradient Distribution:\n",
      "Name                Mean         Std\n",
      "dense_1/kernel:0    0.0000058517 0.0007882272\n",
      "dense_2/kernel:0   -0.0000000002 0.0076651219\n",
      "Epoch 2/5\n",
      "48000/48000 [==============================] - 1s 22us/step - loss: 1.9163 - acc: 0.6300 - val_loss: 1.7873 - val_acc: 0.7084\n",
      "Gradient Distribution:\n",
      "Name                Mean         Std\n",
      "dense_1/kernel:0    0.0000087320 0.0007521981\n",
      "dense_2/kernel:0   -0.0000000000 0.0082411245\n",
      "Epoch 3/5\n",
      "48000/48000 [==============================] - 1s 22us/step - loss: 1.6926 - acc: 0.6975 - val_loss: 1.5721 - val_acc: 0.7284\n",
      "Gradient Distribution:\n",
      "Name                Mean         Std\n",
      "dense_1/kernel:0    0.0000103487 0.0006956566\n",
      "dense_2/kernel:0    0.0000000000 0.0070143263\n",
      "Epoch 4/5\n",
      "48000/48000 [==============================] - 1s 22us/step - loss: 1.4948 - acc: 0.7313 - val_loss: 1.3827 - val_acc: 0.7722\n",
      "Gradient Distribution:\n",
      "Name                Mean         Std\n",
      "dense_1/kernel:0    0.0000100543 0.0006569530\n",
      "dense_2/kernel:0   -0.0000000001 0.0074348464\n",
      "Epoch 5/5\n",
      "48000/48000 [==============================] - 1s 22us/step - loss: 1.3255 - acc: 0.7586 - val_loss: 1.2257 - val_acc: 0.7974\n",
      "Gradient Distribution:\n",
      "Name                Mean         Std\n",
      "dense_1/kernel:0    0.0000112658 0.0006137751\n",
      "dense_2/kernel:0    0.0000000002 0.0071228053\n"
     ]
    },
    {
     "data": {
      "image/png": "[encoded data removed]",
      "text/plain": [
       "<matplotlib.figure.Figure at 0x7f6e14767240>"
      ]
     },
     "metadata": {},
     "output_type": "display_data"
    },
    {
     "name": "stdout",
     "output_type": "stream",
     "text": [
      "10000/10000 [==============================] - 0s 21us/step\n",
      "Test accuracy: 0.7917\n"
     ]
    }
   ],
   "source": [
    "import keras.backend as K\n",
    "from keras.models import Sequential\n",
    "from keras.layers import Dense\n",
    "\n",
    "# GradientLogger is a custom callback for keras\n",
    "from helper import GradientLogger\n",
    "\n",
    "K.clear_session()\n",
    "\n",
    "model = Sequential()\n",
    "\n",
    "# `input_shape` or `input_dim` should be define in the first layer.\n",
    "# See https://keras.io/getting-started/sequential-model-guide/ \n",
    "model.add(Dense(300, activation='sigmoid', input_shape=(784,)))\n",
    "model.add(Dense(10, activation='softmax'))\n",
    "\n",
    "# Show model architecture.\n",
    "model.summary()\n",
    "\n",
    "# Generate instance of GradientLogger. We use 200 test samples to compute gradient.\n",
    "gradient_logger = GradientLogger(x_eval=x_train[:200], y_eval=y_train[:200])\n",
    "\n",
    "model.compile(loss='categorical_crossentropy', optimizer='sgd', metrics=['accuracy'])\n",
    "\n",
    "# Put `gradient_logger` in `callbacks`. We only train 5 epochs.\n",
    "model.fit(x_train, y_train, batch_size=256, epochs=5, validation_split=0.2, callbacks=[gradient_logger])\n",
    "print('Test accuracy:', model.evaluate(x_test, y_test)[1])"
   ]
  },
  {
   "cell_type": "markdown",
   "metadata": {},
   "source": [
    "Check the above histogram. We can see that gradients are close to 0 in the first layer. And we can see that test accuracy has reached 80%.\n",
    "\n",
    "Now, let's train a neural network with two hidden layers.\n",
    "\n",
    "## 2.4 Neural network with two hidden layers\n",
    "\n",
    "We use the same code in section 2.3. And we only add an extra hidden layer to our model."
   ]
  },
  {
   "cell_type": "code",
   "execution_count": 4,
   "metadata": {},
   "outputs": [
    {
     "name": "stdout",
     "output_type": "stream",
     "text": [
      "_________________________________________________________________\n",
      "Layer (type)                 Output Shape              Param #   \n",
      "=================================================================\n",
      "dense_1 (Dense)              (None, 300)               235500    \n",
      "_________________________________________________________________\n",
      "dense_2 (Dense)              (None, 100)               30100     \n",
      "_________________________________________________________________\n",
      "dense_3 (Dense)              (None, 10)                1010      \n",
      "=================================================================\n",
      "Total params: 266,610\n",
      "Trainable params: 266,610\n",
      "Non-trainable params: 0\n",
      "_________________________________________________________________\n",
      "Train on 48000 samples, validate on 12000 samples\n",
      "Epoch 1/5\n",
      "48000/48000 [==============================] - 1s 27us/step - loss: 2.2986 - acc: 0.1176 - val_loss: 2.2814 - val_acc: 0.1099\n",
      "Gradient Distribution:\n",
      "Name                Mean         Std\n",
      "dense_1/kernel:0   -0.0000004126 0.0002209630\n",
      "dense_2/kernel:0   -0.0000123088 0.0007993481\n",
      "dense_3/kernel:0    0.0000000002 0.0072232713\n",
      "Epoch 2/5\n",
      "48000/48000 [==============================] - 1s 23us/step - loss: 2.2699 - acc: 0.1512 - val_loss: 2.2581 - val_acc: 0.2644\n",
      "Gradient Distribution:\n",
      "Name                Mean         Std\n",
      "dense_1/kernel:0    0.0000004042 0.0002211589\n",
      "dense_2/kernel:0   -0.0000282975 0.0007651350\n",
      "dense_3/kernel:0   -0.0000000002 0.0069345222\n",
      "Epoch 3/5\n",
      "48000/48000 [==============================] - 1s 24us/step - loss: 2.2471 - acc: 0.2383 - val_loss: 2.2344 - val_acc: 0.2537\n",
      "Gradient Distribution:\n",
      "Name                Mean         Std\n",
      "dense_1/kernel:0    0.0000011800 0.0002255931\n",
      "dense_2/kernel:0   -0.0000295152 0.0007678948\n",
      "dense_3/kernel:0   -0.0000000002 0.0066138227\n",
      "Epoch 4/5\n",
      "48000/48000 [==============================] - 1s 24us/step - loss: 2.2224 - acc: 0.3197 - val_loss: 2.2080 - val_acc: 0.3615\n",
      "Gradient Distribution:\n",
      "Name                Mean         Std\n",
      "dense_1/kernel:0    0.0000012839 0.0002317028\n",
      "dense_2/kernel:0   -0.0000294178 0.0008130469\n",
      "dense_3/kernel:0   -0.0000000002 0.0069848094\n",
      "Epoch 5/5\n",
      "48000/48000 [==============================] - 1s 24us/step - loss: 2.1953 - acc: 0.4084 - val_loss: 2.1786 - val_acc: 0.4408\n",
      "Gradient Distribution:\n",
      "Name                Mean         Std\n",
      "dense_1/kernel:0    0.0000018711 0.0002413256\n",
      "dense_2/kernel:0   -0.0000320204 0.0008436230\n",
      "dense_3/kernel:0    0.0000000001 0.0070887972\n"
     ]
    },
    {
     "data": {
      "image/png": "[encoded data removed]",
      "text/plain": [
       "<matplotlib.figure.Figure at 0x7fdc300f59b0>"
      ]
     },
     "metadata": {},
     "output_type": "display_data"
    },
    {
     "name": "stdout",
     "output_type": "stream",
     "text": [
      "10000/10000 [==============================] - 0s 24us/step\n",
      "Test accuracy: 0.4456\n"
     ]
    }
   ],
   "source": [
    "K.clear_session()\n",
    "\n",
    "model = Sequential()\n",
    "\n",
    "model.add(Dense(300, activation='sigmoid', input_shape=(784,)))\n",
    "# Add an extra hidden layer\n",
    "model.add(Dense(100, activation='sigmoid'))\n",
    "model.add(Dense(10, activation='softmax'))\n",
    "\n",
    "model.summary()\n",
    "\n",
    "gradient_logger = GradientLogger(x_eval=x_train[:200], y_eval=y_train[:200])\n",
    "\n",
    "model.compile(loss='categorical_crossentropy', optimizer='sgd', metrics=['accuracy'])\n",
    "model.fit(x_train, y_train, batch_size=256, epochs=5, validation_split=0.2, callbacks=[gradient_logger])\n",
    "print('Test accuracy:', model.evaluate(x_test, y_test)[1])"
   ]
  },
  {
   "cell_type": "markdown",
   "metadata": {},
   "source": [
    "We can see that both of train accuracy and validation accuracy drop to 50%. We spent the same time to train a more complex model. But we get a underfitting result."
   ]
  },
  {
   "cell_type": "markdown",
   "metadata": {},
   "source": [
    "# 3. Solve gradient vanish\n",
    "\n",
    "## 3.1 Your Method\n",
    "\n",
    "Here is your turn. You should modify the following cell to solve vanishing gradient problem and improve the test accuracy.\n",
    "\n",
    "You should achieve the following conditions :\n",
    "- Fix vanishing granient problem (40%)\n",
    "- Improve test accuracy to at least 90% (30%)\n",
    "\n",
    "Limitation :\n",
    "1. You can only use sgd (stochastic gradient descent) optimizer.\n",
    "2. The maximum number of epochs is 10.\n",
    "3. Use at least two hidden layers"
   ]
  },
  {
   "cell_type": "code",
   "execution_count": null,
   "metadata": {},
   "outputs": [],
   "source": [
    "K.clear_session()\n",
    "\n",
    "model = Sequential()\n",
    "\n",
    "model.add(Dense(300, activation='sigmoid', input_shape=(784,)))\n",
    "model.add(Dense(100, activation='sigmoid'))\n",
    "model.add(Dense(10, activation='softmax'))\n",
    "\n",
    "gradient_logger = GradientLogger(x_eval=x_train[:200], y_eval=y_train[:200])\n",
    "\n",
    "model.summary()\n",
    "\n",
    "model.compile(loss='categorical_crossentropy', optimizer='sgd', metrics=['accuracy'])\n",
    "model.fit(x_train, y_train, batch_size=256, epochs=5, validation_split=0.2, callbacks=[gradient_logger])\n",
    "print('Test accuracy:', model.evaluate(x_test, y_test)[1])"
   ]
  },
  {
   "cell_type": "markdown",
   "metadata": {},
   "source": [
    "## 3.2 Q & A\n",
    "\n",
    "Please answer the following questions :\n",
    "\n",
    "1. How does your method solve vanishing gradient problem ? (20%)\n",
    "\n",
    "2. Read the issue of keras: [memory leak when using tensorflow](https://github.com/keras-team/keras/issues/2102). Explain why `K.clear_session()` is put in the code cell. (10%)"
   ]
  },
  {
   "cell_type": "markdown",
   "metadata": {},
   "source": []
  },
  {
   "cell_type": "markdown",
   "metadata": {},
   "source": [
    "# 4. Bonus (20%)\n",
    "\n",
    "Train a neural network with **50 hidden layers** in **10 epochs**. \n",
    "\n",
    "- Let your model score at least **90%** test accuracy. (15%)\n",
    "- Explain why your method works. (5%)"
   ]
  },
  {
   "cell_type": "code",
   "execution_count": 20,
   "metadata": {},
   "outputs": [],
   "source": [
    "K.clear_session()"
   ]
  }
 ],
 "metadata": {
  "kernelspec": {
   "display_name": "Python 3",
   "language": "python",
   "name": "python3"
  },
  "language_info": {
   "codemirror_mode": {
    "name": "ipython",
    "version": 3
   },
   "file_extension": ".py",
   "mimetype": "text/x-python",
   "name": "python",
   "nbconvert_exporter": "python",
   "pygments_lexer": "ipython3",
   "version": "3.6.8"
  }
 },
 "nbformat": 4,
 "nbformat_minor": 2
}
