{
 "cells": [
  {
   "cell_type": "markdown",
   "metadata": {},
   "source": [
    "# Perceptron Learning Algorithm (PLA) 演算法\n",
    "\n",
    "利用準備好的工具，實作 PLA 演算法，演算法細節可以參考林軒田老師的[機器學習基石](https://www.youtube.com/watch?v=WlpF1Phkv28&list=PLXVfgk9fNX2I7tB6oIINGBmW50rrmFTqf&index=6)影片。\n",
    "\n",
    "# 二維 PLA 展示"
   ]
  },
  {
   "cell_type": "code",
   "execution_count": null,
   "metadata": {},
   "outputs": [],
   "source": [
    "# 載入準備好的工具\n",
    "import sys\n",
    "sys.path.append('.prepared')\n",
    "import pla as prepared"
   ]
  },
  {
   "cell_type": "code",
   "execution_count": null,
   "metadata": {},
   "outputs": [],
   "source": [
    "# 重置預先準備好的 PLA 示範模型\n",
    "prepared.reset()"
   ]
  },
  {
   "cell_type": "code",
   "execution_count": null,
   "metadata": {},
   "outputs": [],
   "source": [
    "# 更新該 PLA 模型\n",
    "prepared.update()\n",
    "\n",
    "# 繪製該 PLA 模型\n",
    "prepared.plot()\n",
    "\n",
    "# 執行多次觀察 PLA 模型迭代的過程，收斂後可以執行上面程式區段執行重置模型"
   ]
  },
  {
   "cell_type": "markdown",
   "metadata": {},
   "source": [
    "# 動手做\n",
    "\n",
    "完成下面程式區段的 `pla()`，並用其取代 `prepared.demo()`。注意由上往下尋找預測錯誤的資料，更新之後從下一筆繼續尋找，答案才會跟 `prepared.demo()` 完全一致。"
   ]
  },
  {
   "cell_type": "code",
   "execution_count": null,
   "metadata": {},
   "outputs": [],
   "source": [
    "def pla():\n",
    "    # TODO: start coding here... \n",
    "    # the first thing is to read `pla.dat`\n",
    "    f  = open('./pla.dat', 'r')\n",
    "    print(f.read())\n",
    "\n",
    "if False: # TODO: change `False` to `True` once you finish `pla()`\n",
    "    pla()\n",
    "else:\n",
    "    prepared.demo()"
   ]
  }
 ],
 "metadata": {
  "kernelspec": {
   "display_name": "Python 3",
   "language": "python",
   "name": "python3"
  },
  "language_info": {
   "codemirror_mode": {
    "name": "ipython",
    "version": 3
   },
   "file_extension": ".py",
   "mimetype": "text/x-python",
   "name": "python",
   "nbconvert_exporter": "python",
   "pygments_lexer": "ipython3",
   "version": "3.5.2"
  }
 },
 "nbformat": 4,
 "nbformat_minor": 2
}
