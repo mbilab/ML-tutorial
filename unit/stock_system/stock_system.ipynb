{
 "cells": [
  {
   "cell_type": "markdown",
   "metadata": {},
   "source": [
    "# 股票系統介紹\n",
    "\n",
    "網址：https://merry.ee.ncku.edu.tw/stock/  \n",
    "帳號為 luffy 帳號或是成大學號，密碼為 luffy 密碼\n",
    "\n",
    "這是為了成功大學機器學習與生物資訊學課程，所開發的一套股票模擬系統。系統上有 2004 年到現在每天台股的股市資料，使用者需要透過這些原始資料，實作一個預測模型。系統每天會執行使用者的模型，並依據預測結果決定明天要怎麼投資股票。每個人的總資產會依照時間繪製成折線圖和其他人比較，登入後可以查詢購買和賣出等操作細節。使用本系統的流程大致上可以分成以下幾個步驟：\n",
    "\n",
    "1. 讀取資料\n",
    "2. 使用模型\n",
    "3. 產生決策\n",
    "4. 提交程式\n",
    "\n",
    "以下說明各個步驟的細節：\n",
    "\n",
    "## 1. 讀取資料\n",
    "\n",
    "在 luffy 的 `/home/mlb/res/stock/twse/json/` 目錄中，存放著每天每支股票的編號、開牌價、收盤價、最高最低價、成交量等資料。格式如下："
   ]
  },
  {
   "cell_type": "code",
   "execution_count": null,
   "metadata": {},
   "outputs": [],
   "source": [
    "stock = {\n",
    "    \"0050\": {\n",
    "        \"adj_close\": \"84.90\",\n",
    "        \"close\": \"84.95\",\n",
    "        \"high\": \"85.80\",\n",
    "        \"low\": \"84.90\",\n",
    "        \"open\": \"85.80\",\n",
    "        \"volume\": \"20996200\"\n",
    "    },\n",
    "    \"0051\" : {\n",
    "        \"adj_close\": \"32.50\",\n",
    "        \"close\": \"32.50\",\n",
    "        \"high\": \"33.20\",\n",
    "        \"low\": \"32.46\",\n",
    "        \"open\": \"33.20\",\n",
    "        \"volume\": \"92075\"\n",
    "    },\n",
    "    \"0052\" : {\n",
    "        \"adj_close\": \"54.30\",\n",
    "        \"close\": \"54.50\",\n",
    "        \"high\": \"54.90\",\n",
    "        \"low\": \"54.50\",\n",
    "        \"open\": \"54.90\",\n",
    "        \"volume\": \"102150\"\n",
    "    }\n",
    "}\n",
    "\n",
    "print(stock['0050'])\n",
    "print(stock['0050']['close'])"
   ]
  },
  {
   "cell_type": "markdown",
   "metadata": {},
   "source": [
    "## 2. 使用模型\n",
    "\n",
    "讀取股票資料後，建構模型的方式可以參考 [classifier 教學](../week03_classifier/classifier.ipynb)。在使用模型時，必須開發一支程式，能夠讀取指定的時間、股票的資料產生特徵(例如取欲預測日前一周的所有股票，並以開盤價、收盤價以及平均價做為特徵)，並將這些特徵輸入已經訓練完成的模型，取得預測結果。\n",
    "\n",
    "## 3. 產生決策\n",
    "\n",
    "本系統將投資決策存成一個 `json` 檔案，稱之為 Decision File。其內容包含要買哪一隻股票、要買多少錢以及要持有多久等資訊。學生必須開發一支程式，將預測模型的結果轉換成 Decision File。通常預測結果只包含股票的漲跌(如果使用分類模型)或是預期股價(如果使用迴歸模型)，除非建立多個模型來決定 Decision File 中每一個參數，否則像是要買多少錢以及要持有多久等等的參數，都需要使用者另外寫條件來判斷。Decision File 的格式如下："
   ]
  },
  {
   "cell_type": "code",
   "execution_count": null,
   "metadata": {},
   "outputs": [],
   "source": [
    "[ # 一個陣列，每個元素是一個物件\n",
    "    {\n",
    "        \"code\": \"1214\", # 股票代碼\n",
    "        \"type\": \"buy\", # 兩種操作，買(buy)/放空(short)\n",
    "        \"open_price\": 16.75, # 等於或小於這個價格才買，交易才會發生\n",
    "\n",
    "        # 操作幾單位；每個人一開始有 1 單位的虛擬現金；隨著投資可用的現金會變化\n",
    "        # 每天投資時，系統會計算每個人每一天有一單位的錢可以花，\n",
    "        # 每天投資時，系統會將所有權重加起來換算成百分比\n",
    "        # 假設只買兩支股票，1214 權重為 1，2351 權重為 3，計算後花費分別為 1/4 與 3/4 乘上當天可用的現金\n",
    "        # 以這個例子為例，用 1/4 買 1214；用 3/4 放空 2351\n",
    "        \"weight\": 1, \n",
    "\n",
    "        # 以下三個條件其中一個成立就會賣出\n",
    "        \"close_high_price\": 16.8, # 比這個價格高就賣\n",
    "        \"close_low_price\": 16.3 # 比這個價格低也賣(停損點)\n",
    "        \"life\": 5, # 如果以上兩個條件都沒發生，會在 5 天會以收盤價賣\n",
    "    },\n",
    "    {\n",
    "        \"code\": \"2351\",\n",
    "        \"life\": 3,\n",
    "        \"type\": \"short\",\n",
    "        \"weight\": 3,\n",
    "        \"open_price\": 27.3,\n",
    "        \"close_high_price\": 27.5,\n",
    "        \"close_low_price\": 25.8\n",
    "    }\n",
    "]\n",
    "\n",
    "# 注意實際操作時，Decision File 不能包含註解\n",
    "# 注意本程式區段不是 python 程式碼，不能在 jupyter notebook 內執行"
   ]
  },
  {
   "cell_type": "markdown",
   "metadata": {},
   "source": [
    "注意某日沒有 Decision File 或是內容為空時，系統會自動將所有現金投資大盤(TAIEX, 0050)，鼓勵使用者多多投資。根據過往經驗，跟著大盤投資會比預測模型表現來得糟。\n",
    "\n",
    "## 4. 提交程式\n",
    "\n",
    "請每個使用者在 luffy 的帳號底下都創建一個 `stock` 資料夾，結構為：\n",
    "\n",
    "* `~/stock/bin` 程式目錄，唯讀\n",
    "* `~/stock/commit` 主要輸出目錄，用來存放 Decision File\n",
    "* `~/stock/output` 備用輸出目錄，用來存放暫存檔\n",
    "\n",
    "其中 `~/stock/bin` 中需要包含一個檔案 shell script，run.sh 以作為我們的股票系統執行你們程式的入口。<br>\n",
    "* 通常你還需要用習慣的程式語言開發一支主程式，並用 run.sh 呼叫該程式\n",
    "* 對此我們建議可以更改 stock parser 作業中的 `parser.py` 作為主程式\n",
    "\n",
    "該主程式大致需要包含四個步驟：\n",
    "1. **讀取股票資料** \n",
    "2. **使用訓練好模型預測當天的結果** \n",
    "3. **根據預測的結果以及額外條件產生決策**\n",
    "4. **產生 Decision File**\n",
    "\n",
    "將上述流程需要的程式放入 `~/stock/bin` 目錄下即完成提交，系統會在每天的特定時間去抓取程式。而在程式執行過程中所有的暫存檔案建議放在 `~/stock/output` 目錄下。\n",
    "\n",
    "\n",
    "## 5. 注意事項\n",
    "\n",
    "1. 最終的 Decision File 必須放在 `~/stock/commit` 目錄，檔名格式為 `YYYY-MM-DD_YYYY_MM_DD.json`，日期是欲預測日，例如 2018-09-10 的 Decision File 位置應為 `~/stock/commit/2018-09-10_2018-09-10.json`。 \n",
    "\n",
    "2. `~/stock/bin` 目錄下需要包含 `run.sh` 程式(檔名不能更改)。`run.sh` 為 [shell script](http://blog.jex.tw/blog/2013/06/08/shell-script/)，裡面必須包含整個預測股票的流程，當 `run.sh` 成功執行之後，`~/stock/commit/` 下應該產生當天的 Decision File。系統在執行 `run.sh` 時，會在後面加上兩個參數，代表預測開始與結束的日期，例如 `sh run.sh 2018-09-10 2018-09-10`。這兩個參數在 shell script 可以用 `$1`、`$2` 取得。\n",
    "\n",
    "3. 助教有提供範例程式碼讓大家參考和測試，不過該程式碼中沒有使用到機器學習模型，建議各位同學更改後再使用。"
   ]
  },
  {
   "cell_type": "markdown",
   "metadata": {},
   "source": [
    "## 備註\n",
    "* 系統實際運作時，會先將 `~/stock/bin/` 目錄複製至獨立的虛擬機，創建對應的 `../commit` 與 `../output` 空目錄，再執行其中的 `run.sh`，所以執行時無法存取原本 `~/stock/bin/` 以外的檔案。  \n",
    "* 模型應該預先訓練好，放置在 `~/stock/bin/` 中直接使用。系統執行 `run.sh` 時超過一分鐘會自動中斷，所以如果 `run.sh` 包含模型訓練通常會超過時限，導致無法產生 Decision File。  \n",
    "* 透過系統網頁 Test & Simulate 頁籤中的 Test 功能，可以測試自己的 `run.sh` 能不能順利產生 Decision File。\n",
    "* 系統網頁 Test & Simulate 頁籤中的 Simulate 提供模擬測試，在 luffy 上可以看到暫存檔，方便除錯。但由於本次修課人數眾多，暫時關閉。"
   ]
  },
  {
   "cell_type": "code",
   "execution_count": null,
   "metadata": {},
   "outputs": [],
   "source": []
  }
 ],
 "metadata": {
  "kernelspec": {
   "display_name": "Python 3",
   "language": "python",
   "name": "python3"
  },
  "language_info": {
   "codemirror_mode": {
    "name": "ipython",
    "version": 3
   },
   "file_extension": ".py",
   "mimetype": "text/x-python",
   "name": "python",
   "nbconvert_exporter": "python",
   "pygments_lexer": "ipython3",
   "version": "3.6.9"
  }
 },
 "nbformat": 4,
 "nbformat_minor": 2
}
