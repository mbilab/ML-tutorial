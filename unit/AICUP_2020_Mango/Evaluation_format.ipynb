{
 "cells": [
  {
   "cell_type": "markdown",
   "metadata": {},
   "source": [
    "# AI CUP 2020 愛文芒果不良品分類競賽\n",
    "\n",
    "> 這是一份給在第一階段選擇 **芒果瑕疵辨識** 作為project的同學的期中程式碼繳交格式說明，本說明會解釋助教收取程式碼及驗證結果的流程。"
   ]
  },
  {
   "cell_type": "markdown",
   "metadata": {},
   "source": [
    "## 0. 準備工作\n",
    "\n",
    "由於本次課程不提供gpu給各位使用，因此請各位使用 **google colab** 作為自己開發的環境。我們建議將官網提供的 **訓練資料 及 開發資料** 放到各位的雲端硬碟中讓你可以在 google colab 中讀取那些資料並且作訓練。若雲端硬碟的空間不足，你可以申請 **成大** 的 **gsuite** 帳號，會有免費且無限的空間供你使用。\n",
    "\n",
    "* google colab 的使用方法基本跟 jupyter notebook 一樣，這邊就不再放教學了\n",
    "* [gsuite 啟用教學](https://www.gs.ncku.edu.tw/%E5%95%9F%E7%94%A8%E6%95%99%E5%AD%B8/%E5%AD%B8%E7%94%9F)\n",
    "* google colab 掛接雲端硬碟的方式: colab介面最左列選單 > 最下方的檔案圖示 > 點開後有個雲端硬碟的圖示 > 點選後根據他的指示即可完成"
   ]
  },
  {
   "cell_type": "markdown",
   "metadata": {},
   "source": [
    "## 1. 測試資料與程式碼規格\n",
    "\n",
    "* 請在程式碼一開始先安裝好你所需要的套件，以確保在不同的環境可以執行。\n",
    "* 我們會準備**額外**的**訓練集**與**測試集**用各位繳交的程式碼**重新**做一次訓練，並且在**測試集**上計算每個人的表現進行排名。\n",
    "* 請將官方的 **C2_TrainDev 資料夾**作為你們產生訓練及測試資料的接口，我們會**替換**該資料夾底下的所有資料來進行訓練及測試，而**檔名(train.csv / dev.csv)** 與 **資料夾名 (Train / Dev)** 會維持**不變**。\n",
    "* 唯一不同的是測試時的 dev.csv 內每一行只會提供圖片的名稱，因為你們會需要對那些在 **Dev資料夾** 內的圖片進行預測。\n",
    "* 如何讀取官方的資料請參照助教之前撰寫的 **tutorial**。\n",
    "\n",
    "\n",
    "\n",
    "\n",
    "\n"
   ]
  },
  {
   "cell_type": "markdown",
   "metadata": {},
   "source": [
    "## 2. 輸出檔案格式\n",
    "\n",
    "* 輸出檔案的檔名須為 **{學號}_predict.tsv** (例如: N26090287_predict.tsv)，並輸出在與程式碼同一層級的目錄下。\n",
    "* 輸出檔案為 tsv 格式、utf-8 編碼格式，須針對 **Dev資料夾** 中的每一張圖片預測其瑕疵類型。\n",
    "* 須包含 5 個欄位：image_id, d0, d1, d2, d3, d4。每個欄位間以 '\\t' 隔開，每列最後以 '\\n' 以換新行。\n",
    "* d0, d1, d2, d3, d4 分別對應有無 **乳汁吸附**, **機械傷害**, **炭疽病**, **著色不佳**, **黑斑病** 之瑕疵\n",
    "\n",
    "\n",
    "tsv檔輸出格式範例如下："
   ]
  },
  {
   "cell_type": "raw",
   "metadata": {},
   "source": [
    "image_id\td0\td1\td2\td3\td4\n",
    "0.jpg\tTrue\tFalse\tFalse\tFalse\tFalse\n",
    "1.jpg\tTrue\tTrue\tFalse\tFalse\tTrue\n",
    "..."
   ]
  },
  {
   "cell_type": "markdown",
   "metadata": {},
   "source": [
    "## 3. 程式碼繳交\n",
    "\n",
    "我們會統一在 11/11(三) 23:59:59 收取各位的程式碼 (繳交期限若有更動請以**共筆**和**社團貼文**為主)，請大家在**截止日期前**將自己的程式碼下載下來並且存成 **.ipynb** 檔案，寄到助教的信箱 (mbilabta@gmail.com)，重複繳交者我們會以最新的版本為主。若是超過時限我們一律不接受補交，遲交同學的期中成績會以股票成績來計算。\n"
   ]
  }
 ],
 "metadata": {
  "kernelspec": {
   "display_name": "py3610",
   "language": "python",
   "name": "py3610"
  },
  "language_info": {
   "codemirror_mode": {
    "name": "ipython",
    "version": 3
   },
   "file_extension": ".py",
   "mimetype": "text/x-python",
   "name": "python",
   "nbconvert_exporter": "python",
   "pygments_lexer": "ipython3",
   "version": "3.6.10"
  }
 },
 "nbformat": 4,
 "nbformat_minor": 4
}
