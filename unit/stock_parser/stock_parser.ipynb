{
 "cells": [
  {
   "cell_type": "markdown",
   "metadata": {},
   "source": [
    "# Stock Parser\n",
    "\n",
    "這是為了成功大學機器學習與生物資訊學課程，所設計的一個作業。本次作業為實作一個股票 parser (中文稱為[語法分析器](https://zh.wikipedia.org/wiki/%E8%AA%9E%E6%B3%95%E5%88%86%E6%9E%90%E5%99%A8))，此 parser 的輸入資料為 `/home/mlb/res/stock/twse/json/` 中 json 檔案，輸出特徵向量(格式為 [numpy.array](https://docs.scipy.org/doc/numpy-1.15.1/reference/generated/numpy.array.html))。\n",
    "\n",
    "開啟 terminal，請先在自己的家目錄下建立 `stock` 資料夾，與 `stock` 底下的 `bin` 跟 `commit` 資料夾。\n",
    "\n",
    "```\n",
    "mkdir ~/stock/\n",
    "mkdir ~/stock/bin/\n",
    "mkdir ~/stock/commit/\n",
    "```\n",
    "\n",
    "## 作業要求\n",
    "\n",
    "- 繳交一個檔案 shell script，`run.sh`，放在 `~/stock/bin/` 底下。(但通常你還需要用習慣的程語言開發一支主程式)\n",
    "- 批改作業時，助教會執行 `./run.sh 2021-09-17`，程式的輸出為 `2021-09-17` 中 **0050**、**0051** 以及 **0052** 這三支股票的特徵向量。每支股票的特徵向量有 3 維，分別為前三天該股票的**平均開盤價**、**平均收盤價**以及**最高成交量**。\n",
    "\n",
    "## parser.py\n",
    "\n",
    "假設今天要產生 `2021-09-17` 這天的特徵向量，程式要從 `2021-09-16`、`2021-09-15` 以及 `2021-09-14` 這三天的 json 檔案中，取出對應的資料並產生特徵。讀取 json 檔案以及計算特徵的程式碼必須寫在 `parser.py` 中，並透過命令列傳入指定的日期。以上述日期為例，執行指令為 `python3 parser.py YYYY-MM-DD`。請參考 [Command Line Arguments](https://www.tutorialspoint.com/python/python_command_line_arguments.htm) 讀取命令列參數。\n",
    "\n",
    "## run.sh\n",
    "\n",
    "完成 `parser.py` 後，請將執行 `parser.py` 的指令寫在 `run.sh` 中。助教執行 `run.sh` 的指令為 `run.sh YYYY-MM-DD YYYY-MM-DD`。下面為 `2021-09-17` 的輸出結果。"
   ]
  },
  {
   "cell_type": "code",
   "execution_count": null,
   "metadata": {},
   "outputs": [],
   "source": [
    "# 執行指令\n",
    "./run.sh 2021-09-17 2021-09-17\n",
    "\n",
    "# 輸出為將存特徵向量的 numpy.array 印出來, 應該會如下面所示\n",
    "#  open   close   max_volume\n",
    "    ˇ       ˇ         ˇ\n",
    "[[141.32, 140.82, 12135597.0], [57.47, 57.38, 43183.0], [127.25, 126.72, 743251.0]]\n",
    "            ^                            ^                         ^\n",
    "           0050                         0051                      0052"
   ]
  }
 ],
 "metadata": {
  "kernelspec": {
   "display_name": "Python 3",
   "language": "python",
   "name": "python3"
  },
  "language_info": {
   "codemirror_mode": {
    "name": "ipython",
    "version": 3
   },
   "file_extension": ".py",
   "mimetype": "text/x-python",
   "name": "python",
   "nbconvert_exporter": "python",
   "pygments_lexer": "ipython3",
   "version": "3.9.1"
  }
 },
 "nbformat": 4,
 "nbformat_minor": 4
}
